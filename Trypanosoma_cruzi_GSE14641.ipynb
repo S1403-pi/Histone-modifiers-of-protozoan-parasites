{
 "cells": [
  {
   "cell_type": "code",
   "execution_count": 1,
   "metadata": {},
   "outputs": [],
   "source": [
    "# load necessary library\n",
    "suppressPackageStartupMessages(library(GEOquery))\n",
    "suppressPackageStartupMessages(library(oligo))\n",
    "suppressPackageStartupMessages(library(ggplot2))\n",
    "suppressPackageStartupMessages(library(repr))"
   ]
  },
  {
   "cell_type": "code",
   "execution_count": 2,
   "metadata": {
    "jupyter": {
     "source_hidden": true
    }
   },
   "outputs": [],
   "source": [
    "create.folders<-function(folder_names=NULL,location=\".\"){\n",
    "#     pass names or paths to create multiple folders \n",
    "#     and returns list of status as boolean\n",
    "\n",
    "    paths<-file.path(location, folder_names)\n",
    "    is_exists<-dir.exists(paths)\n",
    "    paths<-paths[!is_exists]\n",
    "    lapply(paths,function(path){\n",
    "        dir.create(path, recursive = TRUE)\n",
    "    })\n",
    "    return(!is_exists)\n",
    "    \n",
    "}\n",
    "\n",
    "remove.folders<-function(location=\".\",folder_names=NULL){\n",
    "#   pass names or paths to remove multiple folders  \n",
    "#   and returns list of boolean, if it now exists \n",
    "    \n",
    "    paths<-file.path(location, folder_names)\n",
    "    unlink(paths, recursive= T)\n",
    "    return(!dir.exists(paths))\n",
    "}\n",
    "\n",
    "find.all.indeces<-function(query_list, vector){  \n",
    "#   returns all matched indeces as a list.\n",
    "    sapply(query_list,function(query) grep(query,vector))\n",
    "}\n",
    "           \n",
    "extract_from_vector<-function(query_list, vector){\n",
    "    store<-unique(unlist(lapply(query_list, function(query) grep(query, vector))\n",
    "                  ))\n",
    "    return(vector[store])\n",
    "}\n",
    "           \n",
    "group_by_query<-function(query_names, vector, group_names=NULL){\n",
    "#     it allocates group with first group name that matched if provided.\n",
    "#     Otherwise allocate query name\n",
    "    group<-rep(NA,length(vector))\n",
    "    for(i in 1:length(vector)){\n",
    "        for(j in 1:length(query_names)){\n",
    "            if(is.na(group[i]) && !is.na(pmatch(query_names[j],vector[i])))\n",
    "                if(!is.null(group_names) &&\n",
    "                   length(group_names)==length(query_names))\n",
    "                    group[i]<-group_names[j]\n",
    "                else{group[i]<-query_names[j]}\n",
    "            }\n",
    "        }\n",
    "      return(group)  \n",
    "}\n",
    "           \n",
    "# if group_by_query fuction don't works due to query issues the use this\n",
    "group_by_numbering<-function(group_numbering, vector, group_names=NULL){\n",
    "#     gsub(pattern, replacement, string)\n",
    "    group_numbering<- gsub(\" \",\"\",group_numbering)\n",
    "    group <- rep(NA,length(vector))\n",
    "    for (i in 1:nchar(group_numbering)){\n",
    "        num<-as.numeric(substr(group_numbering,i,i))\n",
    "        if(is.null(group_names)) \n",
    "            group[i] <- num\n",
    "        else group[i] <- group_names[num]\n",
    "        }\n",
    "    return(group)\n",
    "}\n",
    "           \n",
    "group_by_uniqueness<- function(vector, group_names=NULL){\n",
    "    if(is.null(group_names)){\n",
    "        uniq<- unique(vector)\n",
    "        rename<-1:length(uniq)\n",
    "        names(rename)<-uniq\n",
    "        return(unname(rename[vector]))\n",
    "    } \n",
    "    else {\n",
    "        uniq<- unique(vector)\n",
    "        names(group_names)<-uniq\n",
    "        return(unname(group_names[vector]))\n",
    "    }\n",
    "}\n",
    "\n",
    "fetch.geo.data<-function(GEO,filename=NULL,store_loc=\".\"){\n",
    "#     fetch published processed data and metadata from GEO database\n",
    "    suppressPackageStartupMessages(library(GEOquery))\n",
    "    if(!is.null(filename)) create.folders(file.path(store_loc,filename))\n",
    "    else create.folders(filename)\n",
    "    geo.data <- getGEO(GEO, filename=filename, destdir=store_loc, \n",
    "                     GSEMatrix=FALSE, AnnotGPL=TRUE, \n",
    "                     getGPL=TRUE)\n",
    "    return(geo.data)\n",
    "}\n",
    "\n",
    "need.log.transformation<- function(data){\n",
    "    qx <- as.numeric(quantile(data, c(0., 0.25, 0.5, 0.75, 0.99, 1.0), na.rm=T))\n",
    "    # check if data need to be normalized \n",
    "    LogC <- (qx[5] > 100) ||\n",
    "            (qx[6]-qx[1] > 50 && qx[2] > 0) ||\n",
    "            (qx[2] > 0 && qx[2] < 1 && qx[4] > 1 && qx[4] < 2)\n",
    "    return(LogC)\n",
    "}\n",
    "\n",
    "sort.data<- function(data,columns,dec=FALSE){\n",
    "    return(data[order(data[,columns],decreasing=dec),])\n",
    "}\n",
    "\n",
    "del.duplication<- function(data,column){\n",
    "    return(data[!duplicated(data[,column]),])\n",
    "}\n",
    "           \n",
    "setup_folder<-function(id){\n",
    "    # create and set working directory if not exists\n",
    "    if(!identical(tail(unlist(strsplit(getwd(), split = \"/\")), n=1), id)){\n",
    "        if(!dir.exists(id)) {\n",
    "        create.folders(id)\n",
    "        setwd(dir =id )\n",
    "    }\n",
    "    else setwd(dir =id )\n",
    "} \n",
    "}"
   ]
  },
  {
   "cell_type": "code",
   "execution_count": 3,
   "metadata": {},
   "outputs": [
    {
     "data": {
      "text/html": [
       "'D:/biological data analysis/final submission/histone/GSE14641_Trypasoma.cruzi'"
      ],
      "text/latex": [
       "'D:/biological data analysis/final submission/histone/GSE14641\\_Trypasoma.cruzi'"
      ],
      "text/markdown": [
       "'D:/biological data analysis/final submission/histone/GSE14641_Trypasoma.cruzi'"
      ],
      "text/plain": [
       "[1] \"D:/biological data analysis/final submission/histone/GSE14641_Trypasoma.cruzi\""
      ]
     },
     "metadata": {},
     "output_type": "display_data"
    }
   ],
   "source": [
    "# declare ccession number\n",
    "my.gse<-c(\"GSE14641\")\n",
    "# set working directory\n",
    "# setup_folder(my.gse)\n",
    "# setwd('GSE14641_Trypasoma.cruzi')\n",
    "getwd()"
   ]
  },
  {
   "cell_type": "markdown",
   "metadata": {},
   "source": [
    "We found Differential Gene Analysis result on geo. So we extracted only histone genes using excel and converted to proper format for ggplot use "
   ]
  },
  {
   "cell_type": "markdown",
   "metadata": {},
   "source": [
    "## ScatterPlot\n"
   ]
  },
  {
   "cell_type": "code",
   "execution_count": 13,
   "metadata": {},
   "outputs": [
    {
     "data": {
      "text/html": [
       "<table class=\"dataframe\">\n",
       "<caption>A data.frame: 5 × 5</caption>\n",
       "<thead>\n",
       "\t<tr><th></th><th scope=col>ID_REF</th><th scope=col>Gene.ID</th><th scope=col>Common.Name.of.Primary.Target</th><th scope=col>logFC</th><th scope=col>stages</th></tr>\n",
       "\t<tr><th></th><th scope=col>&lt;int&gt;</th><th scope=col>&lt;chr&gt;</th><th scope=col>&lt;chr&gt;</th><th scope=col>&lt;dbl&gt;</th><th scope=col>&lt;chr&gt;</th></tr>\n",
       "</thead>\n",
       "<tbody>\n",
       "\t<tr><th scope=row>1</th><td> 754</td><td>8035.t00006</td><td>histone acetyltransferase</td><td>1.50</td><td>amastigotes</td></tr>\n",
       "\t<tr><th scope=row>2</th><td>5189</td><td>4938.t00008</td><td>histone deacetylase      </td><td>0.61</td><td>amastigotes</td></tr>\n",
       "\t<tr><th scope=row>3</th><td>5402</td><td>7192.t00027</td><td>histone deacetylase      </td><td>1.52</td><td>amastigotes</td></tr>\n",
       "\t<tr><th scope=row>4</th><td>9122</td><td>8825.t00021</td><td>histone deacetylase 1    </td><td>1.03</td><td>amastigotes</td></tr>\n",
       "\t<tr><th scope=row>5</th><td>9794</td><td>8089.t00012</td><td>histone deacetylase      </td><td>0.67</td><td>amastigotes</td></tr>\n",
       "</tbody>\n",
       "</table>\n"
      ],
      "text/latex": [
       "A data.frame: 5 × 5\n",
       "\\begin{tabular}{r|lllll}\n",
       "  & ID\\_REF & Gene.ID & Common.Name.of.Primary.Target & logFC & stages\\\\\n",
       "  & <int> & <chr> & <chr> & <dbl> & <chr>\\\\\n",
       "\\hline\n",
       "\t1 &  754 & 8035.t00006 & histone acetyltransferase & 1.50 & amastigotes\\\\\n",
       "\t2 & 5189 & 4938.t00008 & histone deacetylase       & 0.61 & amastigotes\\\\\n",
       "\t3 & 5402 & 7192.t00027 & histone deacetylase       & 1.52 & amastigotes\\\\\n",
       "\t4 & 9122 & 8825.t00021 & histone deacetylase 1     & 1.03 & amastigotes\\\\\n",
       "\t5 & 9794 & 8089.t00012 & histone deacetylase       & 0.67 & amastigotes\\\\\n",
       "\\end{tabular}\n"
      ],
      "text/markdown": [
       "\n",
       "A data.frame: 5 × 5\n",
       "\n",
       "| <!--/--> | ID_REF &lt;int&gt; | Gene.ID &lt;chr&gt; | Common.Name.of.Primary.Target &lt;chr&gt; | logFC &lt;dbl&gt; | stages &lt;chr&gt; |\n",
       "|---|---|---|---|---|---|\n",
       "| 1 |  754 | 8035.t00006 | histone acetyltransferase | 1.50 | amastigotes |\n",
       "| 2 | 5189 | 4938.t00008 | histone deacetylase       | 0.61 | amastigotes |\n",
       "| 3 | 5402 | 7192.t00027 | histone deacetylase       | 1.52 | amastigotes |\n",
       "| 4 | 9122 | 8825.t00021 | histone deacetylase 1     | 1.03 | amastigotes |\n",
       "| 5 | 9794 | 8089.t00012 | histone deacetylase       | 0.67 | amastigotes |\n",
       "\n"
      ],
      "text/plain": [
       "  ID_REF Gene.ID     Common.Name.of.Primary.Target logFC stages     \n",
       "1  754   8035.t00006 histone acetyltransferase     1.50  amastigotes\n",
       "2 5189   4938.t00008 histone deacetylase           0.61  amastigotes\n",
       "3 5402   7192.t00027 histone deacetylase           1.52  amastigotes\n",
       "4 9122   8825.t00021 histone deacetylase 1         1.03  amastigotes\n",
       "5 9794   8089.t00012 histone deacetylase           0.67  amastigotes"
      ]
     },
     "metadata": {},
     "output_type": "display_data"
    }
   ],
   "source": [
    "only.histo<-read.table(\"results/Trypanosoma cruzi_ggplot.txt\",header=T,sep=\"\\t\",quote=\"\")\n",
    "head(only.histo,5)"
   ]
  },
  {
   "cell_type": "code",
   "execution_count": 14,
   "metadata": {},
   "outputs": [
    {
     "data": {
      "text/html": [
       "<style>\n",
       ".list-inline {list-style: none; margin:0; padding: 0}\n",
       ".list-inline>li {display: inline-block}\n",
       ".list-inline>li:not(:last-child)::after {content: \"\\00b7\"; padding: 0 .5ex}\n",
       "</style>\n",
       "<ol class=list-inline><li>'amastigotes'</li><li>'trypomastigotes'</li></ol>\n"
      ],
      "text/latex": [
       "\\begin{enumerate*}\n",
       "\\item 'amastigotes'\n",
       "\\item 'trypomastigotes'\n",
       "\\end{enumerate*}\n"
      ],
      "text/markdown": [
       "1. 'amastigotes'\n",
       "2. 'trypomastigotes'\n",
       "\n",
       "\n"
      ],
      "text/plain": [
       "[1] \"amastigotes\"     \"trypomastigotes\""
      ]
     },
     "metadata": {},
     "output_type": "display_data"
    }
   ],
   "source": [
    "unique(only.histo$stages)"
   ]
  },
  {
   "cell_type": "code",
   "execution_count": 7,
   "metadata": {},
   "outputs": [
    {
     "data": {
      "image/png": "[encoded data removed]",
      "text/plain": [
       "plot without title"
      ]
     },
     "metadata": {
      "image/png": {
       "height": 420,
       "width": 420
      }
     },
     "output_type": "display_data"
    }
   ],
   "source": [
    "# svg(file=\"results/HistoneRelatedPLot.svg\") \n",
    "# options(repr.plot.width=10,repr.plot.height=12)\n",
    "\n",
    "theme_set(theme_bw(base_size = 20))  # pre-set the bw theme.\n",
    "x_axis_order<-c('amastigotes','trypomastigotes')\n",
    "size<-abs(only.histo$logFC)\n",
    "# Significant<-factor(only.histo$test)\n",
    "Genes<-only.histo$Common.Name.of.Primary.Target\n",
    "gene.cols <- c('histone acetyltransferase' = \"red\", 'histone deacetylase' = \"blue\", 'histone deacetylase 1'= \"green\")\n",
    "g <- ggplot(only.histo, aes(factor(stages, level = x_axis_order),\n",
    "                                   logFC))+\n",
    "#     geom_point(aes(fill=Genes,size=size,col=Significant),shape=21) +\n",
    "      geom_point(aes(color=Genes,size=size)) +\n",
    "#     scale_colour_manual(values = c(\"black\", \"gray\", \"black\"))+\n",
    "    scale_fill_manual(values=gene.cols)+\n",
    "\n",
    "    guides(size = FALSE, fill = guide_legend(override.aes = list(size=5)),\n",
    "          color = guide_legend(override.aes = list(size=5)))+\n",
    "    theme(axis.text.x = element_text(face=\"bold\",size=14,angle=90),\n",
    "          axis.text.y = element_text(face=\"bold\",size=14),\n",
    "          legend.title = element_text(color=\"black\",size = 16),\n",
    "          legend.text = element_text(color = \"black\", size = 14),\n",
    "          legend.key.size = unit(1, \"cm\"),\n",
    "#           legend.key.size = unit(3,\"line\"),\n",
    "          legend.key.width = unit(0.8,\"cm\") ,\n",
    "        axis.text=element_text(size=14),\n",
    "        axis.title=element_text(size=16),\n",
    "          \n",
    "          )+\n",
    "  labs(subtitle=\"Histone modifying enzyme genes\", \n",
    "       y=\"logFC\",\n",
    "       x=\"life cycle\",\n",
    "       title=\"Trypanosoma cruzi\"\n",
    "#        caption=\"life cycle\"\n",
    "      )\n",
    "g\n",
    "# dev.off()"
   ]
  },
  {
   "cell_type": "code",
   "execution_count": 8,
   "metadata": {},
   "outputs": [
    {
     "name": "stderr",
     "output_type": "stream",
     "text": [
      "Saving 6.67 x 6.67 in image\n",
      "\n"
     ]
    }
   ],
   "source": [
    "# ggsave(file=\"results/OnlyHistonePlot.svg\", plot=g, width=10, height=12)\n",
    "ggsave(file=\"results/OnlyHistonePlot.svg\", plot=g)"
   ]
  },
  {
   "cell_type": "code",
   "execution_count": 31,
   "metadata": {},
   "outputs": [
    {
     "data": {
      "text/plain": [
       "R version 4.0.3 (2020-10-10)\n",
       "Platform: x86_64-w64-mingw32/x64 (64-bit)\n",
       "Running under: Windows 10 x64 (build 19041)\n",
       "\n",
       "Matrix products: default\n",
       "\n",
       "locale:\n",
       "[1] LC_COLLATE=English_India.1252  LC_CTYPE=English_India.1252   \n",
       "[3] LC_MONETARY=English_India.1252 LC_NUMERIC=C                  \n",
       "[5] LC_TIME=English_India.1252    \n",
       "\n",
       "attached base packages:\n",
       "[1] stats4    parallel  stats     graphics  grDevices utils     datasets \n",
       "[8] methods   base     \n",
       "\n",
       "other attached packages:\n",
       " [1] gdtools_0.2.3       repr_1.1.3          ggplot2_3.3.3      \n",
       " [4] oligo_1.54.1        Biostrings_2.58.0   XVector_0.30.0     \n",
       " [7] IRanges_2.24.1      S4Vectors_0.28.1    oligoClasses_1.52.0\n",
       "[10] GEOquery_2.58.0     Biobase_2.49.0      BiocGenerics_0.36.0\n",
       "\n",
       "loaded via a namespace (and not attached):\n",
       " [1] MatrixGenerics_1.2.0        tidyr_1.1.2                \n",
       " [3] bit64_4.0.5                 jsonlite_1.7.2             \n",
       " [5] splines_4.0.3               foreach_1.5.1              \n",
       " [7] BiocManager_1.30.10         blob_1.2.1                 \n",
       " [9] GenomeInfoDbData_1.2.4      pillar_1.4.7               \n",
       "[11] RSQLite_2.2.1               lattice_0.20-41            \n",
       "[13] glue_1.4.2                  limma_3.46.0               \n",
       "[15] uuid_0.1-4                  digest_0.6.27              \n",
       "[17] GenomicRanges_1.42.0        colorspace_2.0-0           \n",
       "[19] htmltools_0.5.0             preprocessCore_1.52.1      \n",
       "[21] Matrix_1.2-18               pkgconfig_2.0.3            \n",
       "[23] affxparser_1.62.0           zlibbioc_1.36.0            \n",
       "[25] purrr_0.3.4                 scales_1.1.1               \n",
       "[27] svglite_1.2.3.2             affyio_1.60.0              \n",
       "[29] ff_4.0.4                    tibble_3.0.4               \n",
       "[31] farver_2.0.3                generics_0.1.0             \n",
       "[33] ellipsis_0.3.1              withr_2.4.0                \n",
       "[35] SummarizedExperiment_1.20.0 magrittr_2.0.1             \n",
       "[37] crayon_1.3.4                memoise_1.1.0              \n",
       "[39] evaluate_0.14               xml2_1.3.2                 \n",
       "[41] Cairo_1.5-12.2              tools_4.0.3                \n",
       "[43] hms_1.0.0                   lifecycle_0.2.0            \n",
       "[45] matrixStats_0.57.0          munsell_0.5.0              \n",
       "[47] DelayedArray_0.16.0         compiler_4.0.3             \n",
       "[49] GenomeInfoDb_1.26.2         systemfonts_0.3.2          \n",
       "[51] rlang_0.4.9                 grid_4.0.3                 \n",
       "[53] RCurl_1.98-1.2              pbdZMQ_0.3-4               \n",
       "[55] iterators_1.0.13            IRkernel_1.1.1             \n",
       "[57] labeling_0.4.2              bitops_1.0-6               \n",
       "[59] base64enc_0.1-3             gtable_0.3.0               \n",
       "[61] codetools_0.2-18            DBI_1.1.1                  \n",
       "[63] R6_2.5.0                    dplyr_1.0.2                \n",
       "[65] bit_4.0.4                   readr_1.4.0                \n",
       "[67] IRdisplay_1.0               Rcpp_1.0.5                 \n",
       "[69] vctrs_0.3.6                 tidyselect_1.1.0           "
      ]
     },
     "metadata": {},
     "output_type": "display_data"
    }
   ],
   "source": [
    "sessionInfo()"
   ]
  },
  {
   "cell_type": "code",
   "execution_count": null,
   "metadata": {},
   "outputs": [],
   "source": []
  }
 ],
 "metadata": {
  "kernelspec": {
   "display_name": "R",
   "language": "R",
   "name": "ir"
  },
  "language_info": {
   "codemirror_mode": "r",
   "file_extension": ".r",
   "mimetype": "text/x-r-source",
   "name": "R",
   "pygments_lexer": "r",
   "version": "4.0.3"
  }
 },
 "nbformat": 4,
 "nbformat_minor": 4
}
